{
 "cells": [
  {
   "cell_type": "code",
   "execution_count": 1,
   "id": "9a1e5976",
   "metadata": {},
   "outputs": [],
   "source": [
    "import pandas as pd"
   ]
  },
  {
   "cell_type": "code",
   "execution_count": 2,
   "id": "541100df",
   "metadata": {},
   "outputs": [
    {
     "name": "stdout",
     "output_type": "stream",
     "text": [
      "Requirement already satisfied: pyarrow in c:\\users\\priya\\anaconda3\\lib\\site-packages (21.0.0)\n",
      "Note: you may need to restart the kernel to use updated packages.\n"
     ]
    }
   ],
   "source": [
    "pip install pyarrow"
   ]
  },
  {
   "cell_type": "markdown",
   "id": "a8a4fb4a",
   "metadata": {},
   "source": [
    "### RealTime UseCase 1 : Read a CSV file and Convert to Parquet format"
   ]
  },
  {
   "cell_type": "code",
   "execution_count": 3,
   "id": "721c47b3",
   "metadata": {},
   "outputs": [],
   "source": [
    "\"\"\"\n",
    "RealTime UseCase - 1\n",
    "File Conversion LOC from csv to parquet\n",
    "\"\"\"\n",
    "\n",
    "df = pd.read_csv(\"car_crash.csv\")\n",
    "df.to_parquet(\"car_crash.parquet\", engine = \"pyarrow\", index = False)\n",
    "\n",
    "# One-Liner script\n",
    "#pd.read_csv(\"car_crash.csv\").to_parquet(\"car_crash.parquet\", engine = \"pyarrow\", index = False)"
   ]
  },
  {
   "cell_type": "markdown",
   "id": "fc1c48a1",
   "metadata": {},
   "source": [
    "### RealTime UseCase 2 : Create a DataFrame"
   ]
  },
  {
   "cell_type": "code",
   "execution_count": 4,
   "id": "9423d016",
   "metadata": {},
   "outputs": [
    {
     "data": {
      "text/html": [
       "<div>\n",
       "<style scoped>\n",
       "    .dataframe tbody tr th:only-of-type {\n",
       "        vertical-align: middle;\n",
       "    }\n",
       "\n",
       "    .dataframe tbody tr th {\n",
       "        vertical-align: top;\n",
       "    }\n",
       "\n",
       "    .dataframe thead th {\n",
       "        text-align: right;\n",
       "    }\n",
       "</style>\n",
       "<table border=\"1\" class=\"dataframe\">\n",
       "  <thead>\n",
       "    <tr style=\"text-align: right;\">\n",
       "      <th></th>\n",
       "      <th>id</th>\n",
       "      <th>ename</th>\n",
       "    </tr>\n",
       "  </thead>\n",
       "  <tbody>\n",
       "    <tr>\n",
       "      <th>0</th>\n",
       "      <td>1</td>\n",
       "      <td>xx</td>\n",
       "    </tr>\n",
       "    <tr>\n",
       "      <th>1</th>\n",
       "      <td>2</td>\n",
       "      <td>yy</td>\n",
       "    </tr>\n",
       "    <tr>\n",
       "      <th>2</th>\n",
       "      <td>3</td>\n",
       "      <td>zz</td>\n",
       "    </tr>\n",
       "    <tr>\n",
       "      <th>3</th>\n",
       "      <td>4</td>\n",
       "      <td>aa</td>\n",
       "    </tr>\n",
       "    <tr>\n",
       "      <th>4</th>\n",
       "      <td>5</td>\n",
       "      <td>bb</td>\n",
       "    </tr>\n",
       "  </tbody>\n",
       "</table>\n",
       "</div>"
      ],
      "text/plain": [
       "   id ename\n",
       "0   1    xx\n",
       "1   2    yy\n",
       "2   3    zz\n",
       "3   4    aa\n",
       "4   5    bb"
      ]
     },
     "execution_count": 4,
     "metadata": {},
     "output_type": "execute_result"
    }
   ],
   "source": [
    "\"\"\"\n",
    "RealTime UseCase - 2\n",
    "Creating dummy DataFrame and appending derived column to created DataFrame\n",
    "Copy to another Dataframe\n",
    "\"\"\"\n",
    "\n",
    "#Creating new dataframe\n",
    "data = {\n",
    "    \"id\" : [1,2,3,4,5,6,7,8],\n",
    "    \"ename\" : [\"xx\",\"yy\",\"zz\",\"aa\",\"bb\",\"cc\",\"dd\",\"ff\"]\n",
    "}\n",
    "\n",
    "df_new = pd.DataFrame(data)\n",
    "df_new.head()"
   ]
  },
  {
   "cell_type": "code",
   "execution_count": 5,
   "id": "edd26797",
   "metadata": {},
   "outputs": [
    {
     "data": {
      "text/html": [
       "<div>\n",
       "<style scoped>\n",
       "    .dataframe tbody tr th:only-of-type {\n",
       "        vertical-align: middle;\n",
       "    }\n",
       "\n",
       "    .dataframe tbody tr th {\n",
       "        vertical-align: top;\n",
       "    }\n",
       "\n",
       "    .dataframe thead th {\n",
       "        text-align: right;\n",
       "    }\n",
       "</style>\n",
       "<table border=\"1\" class=\"dataframe\">\n",
       "  <thead>\n",
       "    <tr style=\"text-align: right;\">\n",
       "      <th></th>\n",
       "      <th>id</th>\n",
       "      <th>ename</th>\n",
       "      <th>age</th>\n",
       "    </tr>\n",
       "  </thead>\n",
       "  <tbody>\n",
       "    <tr>\n",
       "      <th>0</th>\n",
       "      <td>1</td>\n",
       "      <td>xx</td>\n",
       "      <td>30</td>\n",
       "    </tr>\n",
       "    <tr>\n",
       "      <th>1</th>\n",
       "      <td>2</td>\n",
       "      <td>yy</td>\n",
       "      <td>30</td>\n",
       "    </tr>\n",
       "    <tr>\n",
       "      <th>2</th>\n",
       "      <td>3</td>\n",
       "      <td>zz</td>\n",
       "      <td>30</td>\n",
       "    </tr>\n",
       "    <tr>\n",
       "      <th>3</th>\n",
       "      <td>4</td>\n",
       "      <td>aa</td>\n",
       "      <td>30</td>\n",
       "    </tr>\n",
       "    <tr>\n",
       "      <th>4</th>\n",
       "      <td>5</td>\n",
       "      <td>bb</td>\n",
       "      <td>45</td>\n",
       "    </tr>\n",
       "  </tbody>\n",
       "</table>\n",
       "</div>"
      ],
      "text/plain": [
       "   id ename  age\n",
       "0   1    xx   30\n",
       "1   2    yy   30\n",
       "2   3    zz   30\n",
       "3   4    aa   30\n",
       "4   5    bb   45"
      ]
     },
     "execution_count": 5,
     "metadata": {},
     "output_type": "execute_result"
    }
   ],
   "source": [
    "#Appending derived column to existin dataframe\n",
    "df_new[\"age\"] = [30,30,30,30,45,56,67,45]\n",
    "df_new.head()"
   ]
  },
  {
   "cell_type": "code",
   "execution_count": 6,
   "id": "a9b1b4db",
   "metadata": {},
   "outputs": [
    {
     "data": {
      "text/html": [
       "<div>\n",
       "<style scoped>\n",
       "    .dataframe tbody tr th:only-of-type {\n",
       "        vertical-align: middle;\n",
       "    }\n",
       "\n",
       "    .dataframe tbody tr th {\n",
       "        vertical-align: top;\n",
       "    }\n",
       "\n",
       "    .dataframe thead th {\n",
       "        text-align: right;\n",
       "    }\n",
       "</style>\n",
       "<table border=\"1\" class=\"dataframe\">\n",
       "  <thead>\n",
       "    <tr style=\"text-align: right;\">\n",
       "      <th></th>\n",
       "      <th>id</th>\n",
       "      <th>ename</th>\n",
       "      <th>age</th>\n",
       "      <th>salary</th>\n",
       "    </tr>\n",
       "  </thead>\n",
       "  <tbody>\n",
       "    <tr>\n",
       "      <th>0</th>\n",
       "      <td>1</td>\n",
       "      <td>xx</td>\n",
       "      <td>30</td>\n",
       "      <td>50000</td>\n",
       "    </tr>\n",
       "    <tr>\n",
       "      <th>1</th>\n",
       "      <td>2</td>\n",
       "      <td>yy</td>\n",
       "      <td>30</td>\n",
       "      <td>50000</td>\n",
       "    </tr>\n",
       "    <tr>\n",
       "      <th>2</th>\n",
       "      <td>3</td>\n",
       "      <td>zz</td>\n",
       "      <td>30</td>\n",
       "      <td>50000</td>\n",
       "    </tr>\n",
       "    <tr>\n",
       "      <th>3</th>\n",
       "      <td>4</td>\n",
       "      <td>aa</td>\n",
       "      <td>30</td>\n",
       "      <td>50000</td>\n",
       "    </tr>\n",
       "    <tr>\n",
       "      <th>4</th>\n",
       "      <td>5</td>\n",
       "      <td>bb</td>\n",
       "      <td>45</td>\n",
       "      <td>50000</td>\n",
       "    </tr>\n",
       "  </tbody>\n",
       "</table>\n",
       "</div>"
      ],
      "text/plain": [
       "   id ename  age  salary\n",
       "0   1    xx   30   50000\n",
       "1   2    yy   30   50000\n",
       "2   3    zz   30   50000\n",
       "3   4    aa   30   50000\n",
       "4   5    bb   45   50000"
      ]
     },
     "execution_count": 6,
     "metadata": {},
     "output_type": "execute_result"
    }
   ],
   "source": [
    "#Appending column to existing dataframe with same values in all rows\n",
    "df_new[\"salary\"] = 50000\n",
    "df_new.head()"
   ]
  },
  {
   "cell_type": "code",
   "execution_count": 7,
   "id": "a3a6ab91",
   "metadata": {},
   "outputs": [
    {
     "data": {
      "text/html": [
       "<div>\n",
       "<style scoped>\n",
       "    .dataframe tbody tr th:only-of-type {\n",
       "        vertical-align: middle;\n",
       "    }\n",
       "\n",
       "    .dataframe tbody tr th {\n",
       "        vertical-align: top;\n",
       "    }\n",
       "\n",
       "    .dataframe thead th {\n",
       "        text-align: right;\n",
       "    }\n",
       "</style>\n",
       "<table border=\"1\" class=\"dataframe\">\n",
       "  <thead>\n",
       "    <tr style=\"text-align: right;\">\n",
       "      <th></th>\n",
       "      <th>id</th>\n",
       "      <th>ename</th>\n",
       "      <th>age</th>\n",
       "      <th>salary</th>\n",
       "    </tr>\n",
       "  </thead>\n",
       "  <tbody>\n",
       "    <tr>\n",
       "      <th>0</th>\n",
       "      <td>1</td>\n",
       "      <td>xx</td>\n",
       "      <td>30</td>\n",
       "      <td>50000</td>\n",
       "    </tr>\n",
       "    <tr>\n",
       "      <th>1</th>\n",
       "      <td>2</td>\n",
       "      <td>yy</td>\n",
       "      <td>30</td>\n",
       "      <td>50000</td>\n",
       "    </tr>\n",
       "    <tr>\n",
       "      <th>2</th>\n",
       "      <td>3</td>\n",
       "      <td>zz</td>\n",
       "      <td>30</td>\n",
       "      <td>50000</td>\n",
       "    </tr>\n",
       "    <tr>\n",
       "      <th>3</th>\n",
       "      <td>4</td>\n",
       "      <td>aa</td>\n",
       "      <td>30</td>\n",
       "      <td>50000</td>\n",
       "    </tr>\n",
       "    <tr>\n",
       "      <th>4</th>\n",
       "      <td>5</td>\n",
       "      <td>bb</td>\n",
       "      <td>45</td>\n",
       "      <td>50000</td>\n",
       "    </tr>\n",
       "  </tbody>\n",
       "</table>\n",
       "</div>"
      ],
      "text/plain": [
       "   id ename  age  salary\n",
       "0   1    xx   30   50000\n",
       "1   2    yy   30   50000\n",
       "2   3    zz   30   50000\n",
       "3   4    aa   30   50000\n",
       "4   5    bb   45   50000"
      ]
     },
     "execution_count": 7,
     "metadata": {},
     "output_type": "execute_result"
    }
   ],
   "source": [
    "#Copy to another Dataframe\n",
    "df_replica = df_new.copy()\n",
    "df_replica.head()"
   ]
  },
  {
   "cell_type": "markdown",
   "id": "67a46de9",
   "metadata": {},
   "source": [
    "### RealTime UseCase 3 : Inspect Data"
   ]
  },
  {
   "cell_type": "code",
   "execution_count": 8,
   "id": "db89d8d8",
   "metadata": {},
   "outputs": [
    {
     "data": {
      "text/html": [
       "<div>\n",
       "<style scoped>\n",
       "    .dataframe tbody tr th:only-of-type {\n",
       "        vertical-align: middle;\n",
       "    }\n",
       "\n",
       "    .dataframe tbody tr th {\n",
       "        vertical-align: top;\n",
       "    }\n",
       "\n",
       "    .dataframe thead th {\n",
       "        text-align: right;\n",
       "    }\n",
       "</style>\n",
       "<table border=\"1\" class=\"dataframe\">\n",
       "  <thead>\n",
       "    <tr style=\"text-align: right;\">\n",
       "      <th></th>\n",
       "      <th>id</th>\n",
       "      <th>ename</th>\n",
       "      <th>age</th>\n",
       "      <th>salary</th>\n",
       "    </tr>\n",
       "  </thead>\n",
       "  <tbody>\n",
       "    <tr>\n",
       "      <th>0</th>\n",
       "      <td>1</td>\n",
       "      <td>xx</td>\n",
       "      <td>30</td>\n",
       "      <td>50000</td>\n",
       "    </tr>\n",
       "    <tr>\n",
       "      <th>1</th>\n",
       "      <td>2</td>\n",
       "      <td>yy</td>\n",
       "      <td>30</td>\n",
       "      <td>50000</td>\n",
       "    </tr>\n",
       "    <tr>\n",
       "      <th>2</th>\n",
       "      <td>3</td>\n",
       "      <td>zz</td>\n",
       "      <td>30</td>\n",
       "      <td>50000</td>\n",
       "    </tr>\n",
       "    <tr>\n",
       "      <th>3</th>\n",
       "      <td>4</td>\n",
       "      <td>aa</td>\n",
       "      <td>30</td>\n",
       "      <td>50000</td>\n",
       "    </tr>\n",
       "    <tr>\n",
       "      <th>4</th>\n",
       "      <td>5</td>\n",
       "      <td>bb</td>\n",
       "      <td>45</td>\n",
       "      <td>50000</td>\n",
       "    </tr>\n",
       "  </tbody>\n",
       "</table>\n",
       "</div>"
      ],
      "text/plain": [
       "   id ename  age  salary\n",
       "0   1    xx   30   50000\n",
       "1   2    yy   30   50000\n",
       "2   3    zz   30   50000\n",
       "3   4    aa   30   50000\n",
       "4   5    bb   45   50000"
      ]
     },
     "execution_count": 8,
     "metadata": {},
     "output_type": "execute_result"
    }
   ],
   "source": [
    "#First 5 records\n",
    "df_replica.head()"
   ]
  },
  {
   "cell_type": "code",
   "execution_count": 9,
   "id": "3809d1d7",
   "metadata": {},
   "outputs": [
    {
     "data": {
      "text/html": [
       "<div>\n",
       "<style scoped>\n",
       "    .dataframe tbody tr th:only-of-type {\n",
       "        vertical-align: middle;\n",
       "    }\n",
       "\n",
       "    .dataframe tbody tr th {\n",
       "        vertical-align: top;\n",
       "    }\n",
       "\n",
       "    .dataframe thead th {\n",
       "        text-align: right;\n",
       "    }\n",
       "</style>\n",
       "<table border=\"1\" class=\"dataframe\">\n",
       "  <thead>\n",
       "    <tr style=\"text-align: right;\">\n",
       "      <th></th>\n",
       "      <th>id</th>\n",
       "      <th>ename</th>\n",
       "      <th>age</th>\n",
       "      <th>salary</th>\n",
       "    </tr>\n",
       "  </thead>\n",
       "  <tbody>\n",
       "    <tr>\n",
       "      <th>3</th>\n",
       "      <td>4</td>\n",
       "      <td>aa</td>\n",
       "      <td>30</td>\n",
       "      <td>50000</td>\n",
       "    </tr>\n",
       "    <tr>\n",
       "      <th>4</th>\n",
       "      <td>5</td>\n",
       "      <td>bb</td>\n",
       "      <td>45</td>\n",
       "      <td>50000</td>\n",
       "    </tr>\n",
       "    <tr>\n",
       "      <th>5</th>\n",
       "      <td>6</td>\n",
       "      <td>cc</td>\n",
       "      <td>56</td>\n",
       "      <td>50000</td>\n",
       "    </tr>\n",
       "    <tr>\n",
       "      <th>6</th>\n",
       "      <td>7</td>\n",
       "      <td>dd</td>\n",
       "      <td>67</td>\n",
       "      <td>50000</td>\n",
       "    </tr>\n",
       "    <tr>\n",
       "      <th>7</th>\n",
       "      <td>8</td>\n",
       "      <td>ff</td>\n",
       "      <td>45</td>\n",
       "      <td>50000</td>\n",
       "    </tr>\n",
       "  </tbody>\n",
       "</table>\n",
       "</div>"
      ],
      "text/plain": [
       "   id ename  age  salary\n",
       "3   4    aa   30   50000\n",
       "4   5    bb   45   50000\n",
       "5   6    cc   56   50000\n",
       "6   7    dd   67   50000\n",
       "7   8    ff   45   50000"
      ]
     },
     "execution_count": 9,
     "metadata": {},
     "output_type": "execute_result"
    }
   ],
   "source": [
    "#Last 5 records\n",
    "df_replica.tail()"
   ]
  },
  {
   "cell_type": "code",
   "execution_count": 10,
   "id": "27e562ef",
   "metadata": {},
   "outputs": [
    {
     "data": {
      "text/plain": [
       "(8, 4)"
      ]
     },
     "execution_count": 10,
     "metadata": {},
     "output_type": "execute_result"
    }
   ],
   "source": [
    "#(rows,colums)\n",
    "df_replica.shape"
   ]
  },
  {
   "cell_type": "code",
   "execution_count": 11,
   "id": "c5d6411d",
   "metadata": {},
   "outputs": [
    {
     "name": "stdout",
     "output_type": "stream",
     "text": [
      "<class 'pandas.core.frame.DataFrame'>\n",
      "RangeIndex: 8 entries, 0 to 7\n",
      "Data columns (total 4 columns):\n",
      " #   Column  Non-Null Count  Dtype \n",
      "---  ------  --------------  ----- \n",
      " 0   id      8 non-null      int64 \n",
      " 1   ename   8 non-null      object\n",
      " 2   age     8 non-null      int64 \n",
      " 3   salary  8 non-null      int64 \n",
      "dtypes: int64(3), object(1)\n",
      "memory usage: 384.0+ bytes\n"
     ]
    }
   ],
   "source": [
    "#schema & datatype\n",
    "df_replica.info()"
   ]
  },
  {
   "cell_type": "code",
   "execution_count": 12,
   "id": "6692f66a",
   "metadata": {},
   "outputs": [
    {
     "data": {
      "text/html": [
       "<div>\n",
       "<style scoped>\n",
       "    .dataframe tbody tr th:only-of-type {\n",
       "        vertical-align: middle;\n",
       "    }\n",
       "\n",
       "    .dataframe tbody tr th {\n",
       "        vertical-align: top;\n",
       "    }\n",
       "\n",
       "    .dataframe thead th {\n",
       "        text-align: right;\n",
       "    }\n",
       "</style>\n",
       "<table border=\"1\" class=\"dataframe\">\n",
       "  <thead>\n",
       "    <tr style=\"text-align: right;\">\n",
       "      <th></th>\n",
       "      <th>count</th>\n",
       "      <th>unique</th>\n",
       "      <th>top</th>\n",
       "      <th>freq</th>\n",
       "      <th>mean</th>\n",
       "      <th>std</th>\n",
       "      <th>min</th>\n",
       "      <th>25%</th>\n",
       "      <th>50%</th>\n",
       "      <th>75%</th>\n",
       "      <th>max</th>\n",
       "    </tr>\n",
       "  </thead>\n",
       "  <tbody>\n",
       "    <tr>\n",
       "      <th>id</th>\n",
       "      <td>8.0</td>\n",
       "      <td>NaN</td>\n",
       "      <td>NaN</td>\n",
       "      <td>NaN</td>\n",
       "      <td>4.5</td>\n",
       "      <td>2.44949</td>\n",
       "      <td>1.0</td>\n",
       "      <td>2.75</td>\n",
       "      <td>4.5</td>\n",
       "      <td>6.25</td>\n",
       "      <td>8.0</td>\n",
       "    </tr>\n",
       "    <tr>\n",
       "      <th>ename</th>\n",
       "      <td>8</td>\n",
       "      <td>8</td>\n",
       "      <td>xx</td>\n",
       "      <td>1</td>\n",
       "      <td>NaN</td>\n",
       "      <td>NaN</td>\n",
       "      <td>NaN</td>\n",
       "      <td>NaN</td>\n",
       "      <td>NaN</td>\n",
       "      <td>NaN</td>\n",
       "      <td>NaN</td>\n",
       "    </tr>\n",
       "    <tr>\n",
       "      <th>age</th>\n",
       "      <td>8.0</td>\n",
       "      <td>NaN</td>\n",
       "      <td>NaN</td>\n",
       "      <td>NaN</td>\n",
       "      <td>41.625</td>\n",
       "      <td>14.212042</td>\n",
       "      <td>30.0</td>\n",
       "      <td>30.0</td>\n",
       "      <td>37.5</td>\n",
       "      <td>47.75</td>\n",
       "      <td>67.0</td>\n",
       "    </tr>\n",
       "    <tr>\n",
       "      <th>salary</th>\n",
       "      <td>8.0</td>\n",
       "      <td>NaN</td>\n",
       "      <td>NaN</td>\n",
       "      <td>NaN</td>\n",
       "      <td>50000.0</td>\n",
       "      <td>0.0</td>\n",
       "      <td>50000.0</td>\n",
       "      <td>50000.0</td>\n",
       "      <td>50000.0</td>\n",
       "      <td>50000.0</td>\n",
       "      <td>50000.0</td>\n",
       "    </tr>\n",
       "  </tbody>\n",
       "</table>\n",
       "</div>"
      ],
      "text/plain": [
       "       count unique  top freq     mean        std      min      25%      50%  \\\n",
       "id       8.0    NaN  NaN  NaN      4.5    2.44949      1.0     2.75      4.5   \n",
       "ename      8      8   xx    1      NaN        NaN      NaN      NaN      NaN   \n",
       "age      8.0    NaN  NaN  NaN   41.625  14.212042     30.0     30.0     37.5   \n",
       "salary   8.0    NaN  NaN  NaN  50000.0        0.0  50000.0  50000.0  50000.0   \n",
       "\n",
       "            75%      max  \n",
       "id         6.25      8.0  \n",
       "ename       NaN      NaN  \n",
       "age       47.75     67.0  \n",
       "salary  50000.0  50000.0  "
      ]
     },
     "execution_count": 12,
     "metadata": {},
     "output_type": "execute_result"
    }
   ],
   "source": [
    "#summary stats\n",
    "df_replica.describe(include=\"all\").T"
   ]
  },
  {
   "cell_type": "code",
   "execution_count": 13,
   "id": "a165c896",
   "metadata": {},
   "outputs": [
    {
     "data": {
      "text/plain": [
       "Index(['id', 'ename', 'age', 'salary'], dtype='object')"
      ]
     },
     "execution_count": 13,
     "metadata": {},
     "output_type": "execute_result"
    }
   ],
   "source": [
    "#column names\n",
    "df_replica.columns"
   ]
  },
  {
   "cell_type": "code",
   "execution_count": 14,
   "id": "9ebf1b2c",
   "metadata": {},
   "outputs": [
    {
     "data": {
      "text/plain": [
       "id         int64\n",
       "ename     object\n",
       "age        int64\n",
       "salary     int64\n",
       "dtype: object"
      ]
     },
     "execution_count": 14,
     "metadata": {},
     "output_type": "execute_result"
    }
   ],
   "source": [
    "#datatypes\n",
    "df_replica.dtypes"
   ]
  },
  {
   "cell_type": "markdown",
   "id": "14485e32",
   "metadata": {},
   "source": [
    "### RealTime UseCase 4 : Select Data"
   ]
  },
  {
   "cell_type": "code",
   "execution_count": 15,
   "id": "c5187c5a",
   "metadata": {},
   "outputs": [
    {
     "data": {
      "text/plain": [
       "0    1\n",
       "1    2\n",
       "2    3\n",
       "3    4\n",
       "4    5\n",
       "5    6\n",
       "6    7\n",
       "7    8\n",
       "Name: id, dtype: int64"
      ]
     },
     "execution_count": 15,
     "metadata": {},
     "output_type": "execute_result"
    }
   ],
   "source": [
    "#Single columns\n",
    "df_replica[\"id\"]"
   ]
  },
  {
   "cell_type": "code",
   "execution_count": 16,
   "id": "36190dfe",
   "metadata": {},
   "outputs": [
    {
     "data": {
      "text/html": [
       "<div>\n",
       "<style scoped>\n",
       "    .dataframe tbody tr th:only-of-type {\n",
       "        vertical-align: middle;\n",
       "    }\n",
       "\n",
       "    .dataframe tbody tr th {\n",
       "        vertical-align: top;\n",
       "    }\n",
       "\n",
       "    .dataframe thead th {\n",
       "        text-align: right;\n",
       "    }\n",
       "</style>\n",
       "<table border=\"1\" class=\"dataframe\">\n",
       "  <thead>\n",
       "    <tr style=\"text-align: right;\">\n",
       "      <th></th>\n",
       "      <th>id</th>\n",
       "      <th>ename</th>\n",
       "    </tr>\n",
       "  </thead>\n",
       "  <tbody>\n",
       "    <tr>\n",
       "      <th>0</th>\n",
       "      <td>1</td>\n",
       "      <td>xx</td>\n",
       "    </tr>\n",
       "    <tr>\n",
       "      <th>1</th>\n",
       "      <td>2</td>\n",
       "      <td>yy</td>\n",
       "    </tr>\n",
       "    <tr>\n",
       "      <th>2</th>\n",
       "      <td>3</td>\n",
       "      <td>zz</td>\n",
       "    </tr>\n",
       "    <tr>\n",
       "      <th>3</th>\n",
       "      <td>4</td>\n",
       "      <td>aa</td>\n",
       "    </tr>\n",
       "    <tr>\n",
       "      <th>4</th>\n",
       "      <td>5</td>\n",
       "      <td>bb</td>\n",
       "    </tr>\n",
       "    <tr>\n",
       "      <th>5</th>\n",
       "      <td>6</td>\n",
       "      <td>cc</td>\n",
       "    </tr>\n",
       "    <tr>\n",
       "      <th>6</th>\n",
       "      <td>7</td>\n",
       "      <td>dd</td>\n",
       "    </tr>\n",
       "    <tr>\n",
       "      <th>7</th>\n",
       "      <td>8</td>\n",
       "      <td>ff</td>\n",
       "    </tr>\n",
       "  </tbody>\n",
       "</table>\n",
       "</div>"
      ],
      "text/plain": [
       "   id ename\n",
       "0   1    xx\n",
       "1   2    yy\n",
       "2   3    zz\n",
       "3   4    aa\n",
       "4   5    bb\n",
       "5   6    cc\n",
       "6   7    dd\n",
       "7   8    ff"
      ]
     },
     "execution_count": 16,
     "metadata": {},
     "output_type": "execute_result"
    }
   ],
   "source": [
    "#Multiple columns - Use double brace for multi column selection\n",
    "df_replica[[\"id\",\"ename\"]]"
   ]
  },
  {
   "cell_type": "code",
   "execution_count": 17,
   "id": "b6d3b90e",
   "metadata": {},
   "outputs": [
    {
     "data": {
      "text/plain": [
       "id            3\n",
       "ename        zz\n",
       "age          30\n",
       "salary    50000\n",
       "Name: 2, dtype: object"
      ]
     },
     "execution_count": 17,
     "metadata": {},
     "output_type": "execute_result"
    }
   ],
   "source": [
    "#First row by index position\n",
    "df_replica.iloc[2] "
   ]
  },
  {
   "cell_type": "code",
   "execution_count": 18,
   "id": "2f34d315",
   "metadata": {},
   "outputs": [
    {
     "data": {
      "text/plain": [
       "id            3\n",
       "ename        zz\n",
       "age          30\n",
       "salary    50000\n",
       "Name: 2, dtype: object"
      ]
     },
     "execution_count": 18,
     "metadata": {},
     "output_type": "execute_result"
    }
   ],
   "source": [
    "# first row (by label/index)\n",
    "df_replica.loc[2]              "
   ]
  },
  {
   "cell_type": "code",
   "execution_count": 19,
   "id": "b25a2526",
   "metadata": {},
   "outputs": [
    {
     "data": {
      "text/plain": [
       "'aa'"
      ]
     },
     "execution_count": 19,
     "metadata": {},
     "output_type": "execute_result"
    }
   ],
   "source": [
    "# cell at (row=0, col=1)\n",
    "df_replica.iloc[3, 1]         "
   ]
  },
  {
   "cell_type": "markdown",
   "id": "eb4faf32",
   "metadata": {},
   "source": [
    "### RealTime UseCase 5 : Filter rows"
   ]
  },
  {
   "cell_type": "code",
   "execution_count": 20,
   "id": "32ee0f50",
   "metadata": {},
   "outputs": [
    {
     "name": "stdout",
     "output_type": "stream",
     "text": [
      "   id ename  age  salary\n",
      "0   1    xx   30   50000\n",
      "1   2    yy   30   50000\n",
      "2   3    zz   30   50000\n",
      "3   4    aa   30   50000\n"
     ]
    }
   ],
   "source": [
    "#Filter employess whose age is 30 and view their details\n",
    "print(df_replica[df_replica[\"age\"]==30])\n"
   ]
  },
  {
   "cell_type": "code",
   "execution_count": 21,
   "id": "90fb462c",
   "metadata": {},
   "outputs": [
    {
     "name": "stdout",
     "output_type": "stream",
     "text": [
      "   id ename  age  salary\n",
      "0   1    xx   30   50000\n"
     ]
    }
   ],
   "source": [
    "#Multiple conditions\n",
    "print(df_replica[(df_replica[\"age\"]==30) & (df_replica[\"id\"]==1)])\n"
   ]
  },
  {
   "cell_type": "markdown",
   "id": "e7ee72cc",
   "metadata": {},
   "source": [
    "### RealTime UseCase 6 : Sort Data"
   ]
  },
  {
   "cell_type": "code",
   "execution_count": 22,
   "id": "c48c4919",
   "metadata": {},
   "outputs": [
    {
     "name": "stdout",
     "output_type": "stream",
     "text": [
      "   id ename  age  salary\n",
      "6   7    dd   67   50000\n",
      "5   6    cc   56   50000\n",
      "4   5    bb   45   50000\n",
      "7   8    ff   45   50000\n",
      "0   1    xx   30   50000\n",
      "1   2    yy   30   50000\n",
      "2   3    zz   30   50000\n",
      "3   4    aa   30   50000\n"
     ]
    }
   ],
   "source": [
    "df_replica = df_replica.sort_values(by=\"age\", ascending=False)\n",
    "print(df_replica)\n"
   ]
  },
  {
   "cell_type": "markdown",
   "id": "56e4f693",
   "metadata": {},
   "source": [
    "### RealTime UseCase 7 : Drop Data"
   ]
  },
  {
   "cell_type": "code",
   "execution_count": 23,
   "id": "98e6845c",
   "metadata": {},
   "outputs": [
    {
     "name": "stdout",
     "output_type": "stream",
     "text": [
      "   id ename  age\n",
      "6   7    dd   67\n",
      "5   6    cc   56\n",
      "4   5    bb   45\n",
      "7   8    ff   45\n",
      "0   1    xx   30\n",
      "1   2    yy   30\n",
      "2   3    zz   30\n",
      "3   4    aa   30\n"
     ]
    }
   ],
   "source": [
    "# drop column\n",
    "df_replica = df_replica.drop(\"salary\", axis=1)\n",
    "print(df_replica)"
   ]
  },
  {
   "cell_type": "code",
   "execution_count": 24,
   "id": "cdd6afba",
   "metadata": {},
   "outputs": [
    {
     "name": "stdout",
     "output_type": "stream",
     "text": [
      "   id ename  age\n",
      "6   7    dd   67\n",
      "5   6    cc   56\n",
      "4   5    bb   45\n",
      "7   8    ff   45\n",
      "2   3    zz   30\n",
      "3   4    aa   30\n"
     ]
    }
   ],
   "source": [
    "# drop rows by index\n",
    "df_replica = df_replica.drop([0, 1], axis=0)\n",
    "print(df_replica)"
   ]
  },
  {
   "cell_type": "code",
   "execution_count": 25,
   "id": "e76302d3",
   "metadata": {},
   "outputs": [
    {
     "name": "stdout",
     "output_type": "stream",
     "text": [
      "   id ename  age\n",
      "6   7    dd   67\n",
      "5   6    cc   56\n",
      "2   3    zz   30\n",
      "3   4    aa   30\n"
     ]
    }
   ],
   "source": [
    "# drop rows based on condition\n",
    "df_replica = df_replica.drop(df_replica[df_replica[\"age\"]==45].index)\n",
    "print(df_replica)"
   ]
  },
  {
   "cell_type": "markdown",
   "id": "dece138c",
   "metadata": {},
   "source": [
    "### RealTime UseCase 8 : Merge/Join"
   ]
  },
  {
   "cell_type": "code",
   "execution_count": 26,
   "id": "4ae257cb",
   "metadata": {},
   "outputs": [
    {
     "data": {
      "text/html": [
       "<div>\n",
       "<style scoped>\n",
       "    .dataframe tbody tr th:only-of-type {\n",
       "        vertical-align: middle;\n",
       "    }\n",
       "\n",
       "    .dataframe tbody tr th {\n",
       "        vertical-align: top;\n",
       "    }\n",
       "\n",
       "    .dataframe thead th {\n",
       "        text-align: right;\n",
       "    }\n",
       "</style>\n",
       "<table border=\"1\" class=\"dataframe\">\n",
       "  <thead>\n",
       "    <tr style=\"text-align: right;\">\n",
       "      <th></th>\n",
       "      <th>id</th>\n",
       "      <th>ename</th>\n",
       "      <th>age_x</th>\n",
       "      <th>salary</th>\n",
       "      <th>age_y</th>\n",
       "    </tr>\n",
       "  </thead>\n",
       "  <tbody>\n",
       "    <tr>\n",
       "      <th>0</th>\n",
       "      <td>3</td>\n",
       "      <td>zz</td>\n",
       "      <td>30</td>\n",
       "      <td>50000</td>\n",
       "      <td>30</td>\n",
       "    </tr>\n",
       "    <tr>\n",
       "      <th>1</th>\n",
       "      <td>4</td>\n",
       "      <td>aa</td>\n",
       "      <td>30</td>\n",
       "      <td>50000</td>\n",
       "      <td>30</td>\n",
       "    </tr>\n",
       "    <tr>\n",
       "      <th>2</th>\n",
       "      <td>6</td>\n",
       "      <td>cc</td>\n",
       "      <td>56</td>\n",
       "      <td>50000</td>\n",
       "      <td>56</td>\n",
       "    </tr>\n",
       "    <tr>\n",
       "      <th>3</th>\n",
       "      <td>7</td>\n",
       "      <td>dd</td>\n",
       "      <td>67</td>\n",
       "      <td>50000</td>\n",
       "      <td>67</td>\n",
       "    </tr>\n",
       "  </tbody>\n",
       "</table>\n",
       "</div>"
      ],
      "text/plain": [
       "   id ename  age_x  salary  age_y\n",
       "0   3    zz     30   50000     30\n",
       "1   4    aa     30   50000     30\n",
       "2   6    cc     56   50000     56\n",
       "3   7    dd     67   50000     67"
      ]
     },
     "execution_count": 26,
     "metadata": {},
     "output_type": "execute_result"
    }
   ],
   "source": [
    "# merge 2 datasets and bring both id and age columns from right dataframe\n",
    "df_merged = pd.merge(df_new,df_replica[[\"id\",\"age\"]], on = \"id\", how = \"inner\")\n",
    "df_merged"
   ]
  },
  {
   "cell_type": "markdown",
   "id": "a82ebe13",
   "metadata": {},
   "source": [
    "Note : Since \"id\" is the key column, it will not be duplicated in merged resultset"
   ]
  },
  {
   "cell_type": "markdown",
   "id": "760b226d",
   "metadata": {},
   "source": [
    "### RealTime UseCase 9 : Apply custom function"
   ]
  },
  {
   "cell_type": "code",
   "execution_count": 27,
   "id": "b56d41bf",
   "metadata": {},
   "outputs": [
    {
     "data": {
      "text/html": [
       "<div>\n",
       "<style scoped>\n",
       "    .dataframe tbody tr th:only-of-type {\n",
       "        vertical-align: middle;\n",
       "    }\n",
       "\n",
       "    .dataframe tbody tr th {\n",
       "        vertical-align: top;\n",
       "    }\n",
       "\n",
       "    .dataframe thead th {\n",
       "        text-align: right;\n",
       "    }\n",
       "</style>\n",
       "<table border=\"1\" class=\"dataframe\">\n",
       "  <thead>\n",
       "    <tr style=\"text-align: right;\">\n",
       "      <th></th>\n",
       "      <th>id</th>\n",
       "      <th>ename</th>\n",
       "      <th>age</th>\n",
       "      <th>age_group</th>\n",
       "    </tr>\n",
       "  </thead>\n",
       "  <tbody>\n",
       "    <tr>\n",
       "      <th>6</th>\n",
       "      <td>7</td>\n",
       "      <td>dd</td>\n",
       "      <td>67</td>\n",
       "      <td>old</td>\n",
       "    </tr>\n",
       "    <tr>\n",
       "      <th>5</th>\n",
       "      <td>6</td>\n",
       "      <td>cc</td>\n",
       "      <td>56</td>\n",
       "      <td>old</td>\n",
       "    </tr>\n",
       "    <tr>\n",
       "      <th>2</th>\n",
       "      <td>3</td>\n",
       "      <td>zz</td>\n",
       "      <td>30</td>\n",
       "      <td>young</td>\n",
       "    </tr>\n",
       "    <tr>\n",
       "      <th>3</th>\n",
       "      <td>4</td>\n",
       "      <td>aa</td>\n",
       "      <td>30</td>\n",
       "      <td>young</td>\n",
       "    </tr>\n",
       "  </tbody>\n",
       "</table>\n",
       "</div>"
      ],
      "text/plain": [
       "   id ename  age age_group\n",
       "6   7    dd   67       old\n",
       "5   6    cc   56       old\n",
       "2   3    zz   30     young\n",
       "3   4    aa   30     young"
      ]
     },
     "execution_count": 27,
     "metadata": {},
     "output_type": "execute_result"
    }
   ],
   "source": [
    "df_replica[\"age_group\"] = df_replica[\"age\"].apply(lambda x: \"young\" if x < 40 else \"old\")\n",
    "df_replica"
   ]
  },
  {
   "cell_type": "markdown",
   "id": "52311dba",
   "metadata": {},
   "source": [
    "### RealTime UseCase 10 : Concat new record to existing dataframe"
   ]
  },
  {
   "cell_type": "code",
   "execution_count": 28,
   "id": "a8c83f17",
   "metadata": {},
   "outputs": [],
   "source": [
    "new_rows = pd.DataFrame(\n",
    "    [\n",
    "        {\"id\": 5, \"ename\": \"bb\", \"age\": 34},\n",
    "        {\"id\": 8, \"ename\": \"dd\", \"age\": 32}\n",
    "    ]\n",
    ")\n",
    "\n",
    "df_replica = pd.concat([df_replica, new_rows], ignore_index=True)\n"
   ]
  },
  {
   "cell_type": "code",
   "execution_count": 29,
   "id": "5971b844",
   "metadata": {},
   "outputs": [
    {
     "data": {
      "text/html": [
       "<div>\n",
       "<style scoped>\n",
       "    .dataframe tbody tr th:only-of-type {\n",
       "        vertical-align: middle;\n",
       "    }\n",
       "\n",
       "    .dataframe tbody tr th {\n",
       "        vertical-align: top;\n",
       "    }\n",
       "\n",
       "    .dataframe thead th {\n",
       "        text-align: right;\n",
       "    }\n",
       "</style>\n",
       "<table border=\"1\" class=\"dataframe\">\n",
       "  <thead>\n",
       "    <tr style=\"text-align: right;\">\n",
       "      <th></th>\n",
       "      <th>id</th>\n",
       "      <th>ename</th>\n",
       "      <th>age</th>\n",
       "      <th>age_group</th>\n",
       "    </tr>\n",
       "  </thead>\n",
       "  <tbody>\n",
       "    <tr>\n",
       "      <th>0</th>\n",
       "      <td>7</td>\n",
       "      <td>dd</td>\n",
       "      <td>67</td>\n",
       "      <td>old</td>\n",
       "    </tr>\n",
       "    <tr>\n",
       "      <th>1</th>\n",
       "      <td>6</td>\n",
       "      <td>cc</td>\n",
       "      <td>56</td>\n",
       "      <td>old</td>\n",
       "    </tr>\n",
       "    <tr>\n",
       "      <th>2</th>\n",
       "      <td>3</td>\n",
       "      <td>zz</td>\n",
       "      <td>30</td>\n",
       "      <td>young</td>\n",
       "    </tr>\n",
       "    <tr>\n",
       "      <th>3</th>\n",
       "      <td>4</td>\n",
       "      <td>aa</td>\n",
       "      <td>30</td>\n",
       "      <td>young</td>\n",
       "    </tr>\n",
       "    <tr>\n",
       "      <th>4</th>\n",
       "      <td>5</td>\n",
       "      <td>bb</td>\n",
       "      <td>34</td>\n",
       "      <td>NaN</td>\n",
       "    </tr>\n",
       "    <tr>\n",
       "      <th>5</th>\n",
       "      <td>8</td>\n",
       "      <td>dd</td>\n",
       "      <td>32</td>\n",
       "      <td>NaN</td>\n",
       "    </tr>\n",
       "  </tbody>\n",
       "</table>\n",
       "</div>"
      ],
      "text/plain": [
       "   id ename  age age_group\n",
       "0   7    dd   67       old\n",
       "1   6    cc   56       old\n",
       "2   3    zz   30     young\n",
       "3   4    aa   30     young\n",
       "4   5    bb   34       NaN\n",
       "5   8    dd   32       NaN"
      ]
     },
     "execution_count": 29,
     "metadata": {},
     "output_type": "execute_result"
    }
   ],
   "source": [
    "df_replica"
   ]
  },
  {
   "cell_type": "markdown",
   "id": "805f5cad",
   "metadata": {},
   "source": [
    " ### RealTime UseCase 11 : Handle missing data"
   ]
  },
  {
   "cell_type": "code",
   "execution_count": 30,
   "id": "552badb6",
   "metadata": {},
   "outputs": [
    {
     "data": {
      "text/plain": [
       "id           0\n",
       "ename        0\n",
       "age          0\n",
       "age_group    2\n",
       "dtype: int64"
      ]
     },
     "execution_count": 30,
     "metadata": {},
     "output_type": "execute_result"
    }
   ],
   "source": [
    "#Check missing values\n",
    "df_replica.isnull().sum()"
   ]
  },
  {
   "cell_type": "code",
   "execution_count": 31,
   "id": "d3742c4a",
   "metadata": {},
   "outputs": [
    {
     "data": {
      "text/html": [
       "<div>\n",
       "<style scoped>\n",
       "    .dataframe tbody tr th:only-of-type {\n",
       "        vertical-align: middle;\n",
       "    }\n",
       "\n",
       "    .dataframe tbody tr th {\n",
       "        vertical-align: top;\n",
       "    }\n",
       "\n",
       "    .dataframe thead th {\n",
       "        text-align: right;\n",
       "    }\n",
       "</style>\n",
       "<table border=\"1\" class=\"dataframe\">\n",
       "  <thead>\n",
       "    <tr style=\"text-align: right;\">\n",
       "      <th></th>\n",
       "      <th>id</th>\n",
       "      <th>ename</th>\n",
       "      <th>age</th>\n",
       "      <th>age_group</th>\n",
       "    </tr>\n",
       "  </thead>\n",
       "  <tbody>\n",
       "    <tr>\n",
       "      <th>0</th>\n",
       "      <td>7</td>\n",
       "      <td>dd</td>\n",
       "      <td>67</td>\n",
       "      <td>old</td>\n",
       "    </tr>\n",
       "    <tr>\n",
       "      <th>1</th>\n",
       "      <td>6</td>\n",
       "      <td>cc</td>\n",
       "      <td>56</td>\n",
       "      <td>old</td>\n",
       "    </tr>\n",
       "    <tr>\n",
       "      <th>2</th>\n",
       "      <td>3</td>\n",
       "      <td>zz</td>\n",
       "      <td>30</td>\n",
       "      <td>young</td>\n",
       "    </tr>\n",
       "    <tr>\n",
       "      <th>3</th>\n",
       "      <td>4</td>\n",
       "      <td>aa</td>\n",
       "      <td>30</td>\n",
       "      <td>young</td>\n",
       "    </tr>\n",
       "    <tr>\n",
       "      <th>4</th>\n",
       "      <td>5</td>\n",
       "      <td>bb</td>\n",
       "      <td>34</td>\n",
       "      <td>NA</td>\n",
       "    </tr>\n",
       "    <tr>\n",
       "      <th>5</th>\n",
       "      <td>8</td>\n",
       "      <td>dd</td>\n",
       "      <td>32</td>\n",
       "      <td>NA</td>\n",
       "    </tr>\n",
       "  </tbody>\n",
       "</table>\n",
       "</div>"
      ],
      "text/plain": [
       "   id ename  age age_group\n",
       "0   7    dd   67       old\n",
       "1   6    cc   56       old\n",
       "2   3    zz   30     young\n",
       "3   4    aa   30     young\n",
       "4   5    bb   34        NA\n",
       "5   8    dd   32        NA"
      ]
     },
     "execution_count": 31,
     "metadata": {},
     "output_type": "execute_result"
    }
   ],
   "source": [
    "#Fill missing values\n",
    "df_replica.fillna(\"NA\")"
   ]
  },
  {
   "cell_type": "markdown",
   "id": "11102ae0",
   "metadata": {},
   "source": [
    "### RealTime UseCase 12 : Aggregations "
   ]
  },
  {
   "cell_type": "code",
   "execution_count": 39,
   "id": "dc709d4a",
   "metadata": {
    "scrolled": true
   },
   "outputs": [
    {
     "data": {
      "text/html": [
       "<div>\n",
       "<style scoped>\n",
       "    .dataframe tbody tr th:only-of-type {\n",
       "        vertical-align: middle;\n",
       "    }\n",
       "\n",
       "    .dataframe tbody tr th {\n",
       "        vertical-align: top;\n",
       "    }\n",
       "\n",
       "    .dataframe thead th {\n",
       "        text-align: right;\n",
       "    }\n",
       "</style>\n",
       "<table border=\"1\" class=\"dataframe\">\n",
       "  <thead>\n",
       "    <tr style=\"text-align: right;\">\n",
       "      <th></th>\n",
       "      <th>Unnamed: 0</th>\n",
       "      <th>dvcat</th>\n",
       "      <th>weight</th>\n",
       "      <th>Survived</th>\n",
       "      <th>airbag</th>\n",
       "      <th>seatbelt</th>\n",
       "      <th>frontal</th>\n",
       "      <th>sex</th>\n",
       "      <th>ageOFocc</th>\n",
       "      <th>yearacc</th>\n",
       "      <th>yearVeh</th>\n",
       "      <th>abcat</th>\n",
       "      <th>occRole</th>\n",
       "      <th>deploy</th>\n",
       "      <th>injSeverity</th>\n",
       "      <th>caseid</th>\n",
       "    </tr>\n",
       "  </thead>\n",
       "  <tbody>\n",
       "    <tr>\n",
       "      <th>0</th>\n",
       "      <td>0</td>\n",
       "      <td>55+</td>\n",
       "      <td>27.078</td>\n",
       "      <td>Not_Survived</td>\n",
       "      <td>none</td>\n",
       "      <td>none</td>\n",
       "      <td>1</td>\n",
       "      <td>m</td>\n",
       "      <td>32</td>\n",
       "      <td>1997</td>\n",
       "      <td>1987.0</td>\n",
       "      <td>unavail</td>\n",
       "      <td>driver</td>\n",
       "      <td>0</td>\n",
       "      <td>4.0</td>\n",
       "      <td>2:13:2</td>\n",
       "    </tr>\n",
       "    <tr>\n",
       "      <th>1</th>\n",
       "      <td>1</td>\n",
       "      <td>25-39</td>\n",
       "      <td>89.627</td>\n",
       "      <td>Not_Survived</td>\n",
       "      <td>airbag</td>\n",
       "      <td>belted</td>\n",
       "      <td>0</td>\n",
       "      <td>f</td>\n",
       "      <td>54</td>\n",
       "      <td>1997</td>\n",
       "      <td>1994.0</td>\n",
       "      <td>nodeploy</td>\n",
       "      <td>driver</td>\n",
       "      <td>0</td>\n",
       "      <td>4.0</td>\n",
       "      <td>2:17:1</td>\n",
       "    </tr>\n",
       "    <tr>\n",
       "      <th>2</th>\n",
       "      <td>2</td>\n",
       "      <td>55+</td>\n",
       "      <td>27.078</td>\n",
       "      <td>Not_Survived</td>\n",
       "      <td>none</td>\n",
       "      <td>belted</td>\n",
       "      <td>1</td>\n",
       "      <td>m</td>\n",
       "      <td>67</td>\n",
       "      <td>1997</td>\n",
       "      <td>1992.0</td>\n",
       "      <td>unavail</td>\n",
       "      <td>driver</td>\n",
       "      <td>0</td>\n",
       "      <td>4.0</td>\n",
       "      <td>2:79:1</td>\n",
       "    </tr>\n",
       "    <tr>\n",
       "      <th>3</th>\n",
       "      <td>3</td>\n",
       "      <td>55+</td>\n",
       "      <td>27.078</td>\n",
       "      <td>Not_Survived</td>\n",
       "      <td>none</td>\n",
       "      <td>belted</td>\n",
       "      <td>1</td>\n",
       "      <td>f</td>\n",
       "      <td>64</td>\n",
       "      <td>1997</td>\n",
       "      <td>1992.0</td>\n",
       "      <td>unavail</td>\n",
       "      <td>pass</td>\n",
       "      <td>0</td>\n",
       "      <td>4.0</td>\n",
       "      <td>2:79:1</td>\n",
       "    </tr>\n",
       "    <tr>\n",
       "      <th>4</th>\n",
       "      <td>4</td>\n",
       "      <td>55+</td>\n",
       "      <td>13.374</td>\n",
       "      <td>Not_Survived</td>\n",
       "      <td>none</td>\n",
       "      <td>none</td>\n",
       "      <td>1</td>\n",
       "      <td>m</td>\n",
       "      <td>23</td>\n",
       "      <td>1997</td>\n",
       "      <td>1986.0</td>\n",
       "      <td>unavail</td>\n",
       "      <td>driver</td>\n",
       "      <td>0</td>\n",
       "      <td>4.0</td>\n",
       "      <td>4:58:1</td>\n",
       "    </tr>\n",
       "  </tbody>\n",
       "</table>\n",
       "</div>"
      ],
      "text/plain": [
       "   Unnamed: 0  dvcat  weight      Survived  airbag seatbelt  frontal sex  \\\n",
       "0           0    55+  27.078  Not_Survived    none     none        1   m   \n",
       "1           1  25-39  89.627  Not_Survived  airbag   belted        0   f   \n",
       "2           2    55+  27.078  Not_Survived    none   belted        1   m   \n",
       "3           3    55+  27.078  Not_Survived    none   belted        1   f   \n",
       "4           4    55+  13.374  Not_Survived    none     none        1   m   \n",
       "\n",
       "   ageOFocc  yearacc  yearVeh     abcat occRole  deploy  injSeverity  caseid  \n",
       "0        32     1997   1987.0   unavail  driver       0          4.0  2:13:2  \n",
       "1        54     1997   1994.0  nodeploy  driver       0          4.0  2:17:1  \n",
       "2        67     1997   1992.0   unavail  driver       0          4.0  2:79:1  \n",
       "3        64     1997   1992.0   unavail    pass       0          4.0  2:79:1  \n",
       "4        23     1997   1986.0   unavail  driver       0          4.0  4:58:1  "
      ]
     },
     "execution_count": 39,
     "metadata": {},
     "output_type": "execute_result"
    }
   ],
   "source": [
    "car_df = pd.read_csv(\"car_crash.csv\")\n",
    "car_df.head()"
   ]
  },
  {
   "cell_type": "markdown",
   "id": "80271a4a",
   "metadata": {},
   "source": [
    "## Keynotes: 1 Difference Between `axis=1` vs `axis=0` in Pandas\n",
    "\n",
    "### Sample Dataset:\n",
    "\n",
    "```\n",
    "   A  B  C\n",
    "0  1  2  3\n",
    "1  4  5  6\n",
    "```\n",
    "\n",
    "---\n",
    "\n",
    "### Example 1: `df.sum(axis=0)`\n",
    "\n",
    "```python\n",
    "df.sum(axis=0)\n",
    "```\n",
    "\n",
    "#### Output:\n",
    "```\n",
    "A     5   ← (1 + 4)\n",
    "B     7   ← (2 + 5)\n",
    "C     9   ← (3 + 6)\n",
    "```\n",
    "\n",
    "This performs sum moving **vertically along rows**\n",
    "\n",
    "---\n",
    "\n",
    "### Example 2: `df.sum(axis=1)`\n",
    "\n",
    "```python\n",
    "df.sum(axis=1)\n",
    "```\n",
    "\n",
    "#### Output:\n",
    "```\n",
    "0     6   ← (1 + 2 + 3)\n",
    "1    15   ← (4 + 5 + 6)\n",
    "```\n",
    "\n",
    "This performs sum moving **horizontally across columns**\n",
    "\n",
    "---\n",
    "\n",
    "### Summary:\n",
    "\n",
    "- `axis=0` → operates **down the rows** (column-wise calculation)\n",
    "- `axis=1` → operates **across the columns** (row-wise calculation)\n",
    "\n",
    "Use `axis` carefully depending on the direction in which you want the function to be applied.\n"
   ]
  },
  {
   "cell_type": "code",
   "execution_count": 40,
   "id": "ab0bd600",
   "metadata": {},
   "outputs": [
    {
     "data": {
      "text/html": [
       "<div>\n",
       "<style scoped>\n",
       "    .dataframe tbody tr th:only-of-type {\n",
       "        vertical-align: middle;\n",
       "    }\n",
       "\n",
       "    .dataframe tbody tr th {\n",
       "        vertical-align: top;\n",
       "    }\n",
       "\n",
       "    .dataframe thead th {\n",
       "        text-align: right;\n",
       "    }\n",
       "</style>\n",
       "<table border=\"1\" class=\"dataframe\">\n",
       "  <thead>\n",
       "    <tr style=\"text-align: right;\">\n",
       "      <th></th>\n",
       "      <th>dvcat</th>\n",
       "      <th>weight</th>\n",
       "      <th>Survived</th>\n",
       "      <th>airbag</th>\n",
       "      <th>seatbelt</th>\n",
       "      <th>frontal</th>\n",
       "      <th>sex</th>\n",
       "      <th>ageOFocc</th>\n",
       "      <th>yearacc</th>\n",
       "      <th>yearVeh</th>\n",
       "      <th>abcat</th>\n",
       "      <th>occRole</th>\n",
       "      <th>deploy</th>\n",
       "      <th>injSeverity</th>\n",
       "      <th>caseid</th>\n",
       "    </tr>\n",
       "  </thead>\n",
       "  <tbody>\n",
       "    <tr>\n",
       "      <th>0</th>\n",
       "      <td>55+</td>\n",
       "      <td>27.078</td>\n",
       "      <td>Not_Survived</td>\n",
       "      <td>none</td>\n",
       "      <td>none</td>\n",
       "      <td>1</td>\n",
       "      <td>m</td>\n",
       "      <td>32</td>\n",
       "      <td>1997</td>\n",
       "      <td>1987.0</td>\n",
       "      <td>unavail</td>\n",
       "      <td>driver</td>\n",
       "      <td>0</td>\n",
       "      <td>4.0</td>\n",
       "      <td>2:13:2</td>\n",
       "    </tr>\n",
       "    <tr>\n",
       "      <th>1</th>\n",
       "      <td>25-39</td>\n",
       "      <td>89.627</td>\n",
       "      <td>Not_Survived</td>\n",
       "      <td>airbag</td>\n",
       "      <td>belted</td>\n",
       "      <td>0</td>\n",
       "      <td>f</td>\n",
       "      <td>54</td>\n",
       "      <td>1997</td>\n",
       "      <td>1994.0</td>\n",
       "      <td>nodeploy</td>\n",
       "      <td>driver</td>\n",
       "      <td>0</td>\n",
       "      <td>4.0</td>\n",
       "      <td>2:17:1</td>\n",
       "    </tr>\n",
       "    <tr>\n",
       "      <th>2</th>\n",
       "      <td>55+</td>\n",
       "      <td>27.078</td>\n",
       "      <td>Not_Survived</td>\n",
       "      <td>none</td>\n",
       "      <td>belted</td>\n",
       "      <td>1</td>\n",
       "      <td>m</td>\n",
       "      <td>67</td>\n",
       "      <td>1997</td>\n",
       "      <td>1992.0</td>\n",
       "      <td>unavail</td>\n",
       "      <td>driver</td>\n",
       "      <td>0</td>\n",
       "      <td>4.0</td>\n",
       "      <td>2:79:1</td>\n",
       "    </tr>\n",
       "    <tr>\n",
       "      <th>3</th>\n",
       "      <td>55+</td>\n",
       "      <td>27.078</td>\n",
       "      <td>Not_Survived</td>\n",
       "      <td>none</td>\n",
       "      <td>belted</td>\n",
       "      <td>1</td>\n",
       "      <td>f</td>\n",
       "      <td>64</td>\n",
       "      <td>1997</td>\n",
       "      <td>1992.0</td>\n",
       "      <td>unavail</td>\n",
       "      <td>pass</td>\n",
       "      <td>0</td>\n",
       "      <td>4.0</td>\n",
       "      <td>2:79:1</td>\n",
       "    </tr>\n",
       "    <tr>\n",
       "      <th>4</th>\n",
       "      <td>55+</td>\n",
       "      <td>13.374</td>\n",
       "      <td>Not_Survived</td>\n",
       "      <td>none</td>\n",
       "      <td>none</td>\n",
       "      <td>1</td>\n",
       "      <td>m</td>\n",
       "      <td>23</td>\n",
       "      <td>1997</td>\n",
       "      <td>1986.0</td>\n",
       "      <td>unavail</td>\n",
       "      <td>driver</td>\n",
       "      <td>0</td>\n",
       "      <td>4.0</td>\n",
       "      <td>4:58:1</td>\n",
       "    </tr>\n",
       "  </tbody>\n",
       "</table>\n",
       "</div>"
      ],
      "text/plain": [
       "   dvcat  weight      Survived  airbag seatbelt  frontal sex  ageOFocc  \\\n",
       "0    55+  27.078  Not_Survived    none     none        1   m        32   \n",
       "1  25-39  89.627  Not_Survived  airbag   belted        0   f        54   \n",
       "2    55+  27.078  Not_Survived    none   belted        1   m        67   \n",
       "3    55+  27.078  Not_Survived    none   belted        1   f        64   \n",
       "4    55+  13.374  Not_Survived    none     none        1   m        23   \n",
       "\n",
       "   yearacc  yearVeh     abcat occRole  deploy  injSeverity  caseid  \n",
       "0     1997   1987.0   unavail  driver       0          4.0  2:13:2  \n",
       "1     1997   1994.0  nodeploy  driver       0          4.0  2:17:1  \n",
       "2     1997   1992.0   unavail  driver       0          4.0  2:79:1  \n",
       "3     1997   1992.0   unavail    pass       0          4.0  2:79:1  \n",
       "4     1997   1986.0   unavail  driver       0          4.0  4:58:1  "
      ]
     },
     "execution_count": 40,
     "metadata": {},
     "output_type": "execute_result"
    }
   ],
   "source": [
    "# Note : axis = 1 is column wise representation. axis = 0 is row wise representation. For instance \n",
    "car_df = car_df.drop(\"Unnamed: 0\", axis = 1) \n",
    "\n",
    "car_df.head()"
   ]
  },
  {
   "cell_type": "code",
   "execution_count": 41,
   "id": "fa209331",
   "metadata": {},
   "outputs": [
    {
     "name": "stdout",
     "output_type": "stream",
     "text": [
      "<class 'pandas.core.frame.DataFrame'>\n",
      "RangeIndex: 11217 entries, 0 to 11216\n",
      "Data columns (total 15 columns):\n",
      " #   Column       Non-Null Count  Dtype  \n",
      "---  ------       --------------  -----  \n",
      " 0   dvcat        11217 non-null  object \n",
      " 1   weight       11217 non-null  float64\n",
      " 2   Survived     11217 non-null  object \n",
      " 3   airbag       11217 non-null  object \n",
      " 4   seatbelt     11217 non-null  object \n",
      " 5   frontal      11217 non-null  int64  \n",
      " 6   sex          11217 non-null  object \n",
      " 7   ageOFocc     11217 non-null  int64  \n",
      " 8   yearacc      11217 non-null  int64  \n",
      " 9   yearVeh      11217 non-null  float64\n",
      " 10  abcat        11217 non-null  object \n",
      " 11  occRole      11217 non-null  object \n",
      " 12  deploy       11217 non-null  int64  \n",
      " 13  injSeverity  11140 non-null  float64\n",
      " 14  caseid       11217 non-null  object \n",
      "dtypes: float64(3), int64(4), object(8)\n",
      "memory usage: 1.3+ MB\n"
     ]
    }
   ],
   "source": [
    "car_df.info()"
   ]
  },
  {
   "cell_type": "code",
   "execution_count": 53,
   "id": "5f820d42",
   "metadata": {},
   "outputs": [
    {
     "name": "stdout",
     "output_type": "stream",
     "text": [
      "<class 'pandas.core.frame.DataFrame'>\n",
      "RangeIndex: 11217 entries, 0 to 11216\n",
      "Data columns (total 16 columns):\n",
      " #   Column        Non-Null Count  Dtype  \n",
      "---  ------        --------------  -----  \n",
      " 0   dvcat         11217 non-null  object \n",
      " 1   weight        11217 non-null  float64\n",
      " 2   Survived      11217 non-null  object \n",
      " 3   airbag        11217 non-null  object \n",
      " 4   seatbelt      11217 non-null  object \n",
      " 5   frontal       11217 non-null  int64  \n",
      " 6   sex           11217 non-null  object \n",
      " 7   ageOFocc      11217 non-null  int64  \n",
      " 8   yearacc       11217 non-null  int64  \n",
      " 9   yearVeh       11217 non-null  float64\n",
      " 10  abcat         11217 non-null  object \n",
      " 11  occRole       11217 non-null  object \n",
      " 12  deploy        11217 non-null  int64  \n",
      " 13  injSeverity   11140 non-null  float64\n",
      " 14  caseid        11217 non-null  object \n",
      " 15  ageOFocc avg  0 non-null      float64\n",
      "dtypes: float64(4), int64(4), object(8)\n",
      "memory usage: 1.4+ MB\n"
     ]
    }
   ],
   "source": [
    "# Calculate Average of ageOFocc group by sex and add the result to existing dataframe\n",
    "car_df['ageOFocc avg']= (\n",
    "    car_df\n",
    "    .groupby(\"sex\")\n",
    "    ['ageOFocc'].mean()\n",
    ")\n",
    "\n",
    "car_df.info()             "
   ]
  },
  {
   "cell_type": "markdown",
   "id": "0ca32b20",
   "metadata": {},
   "source": [
    "## Keynotes : 2 `reset_index()`\n",
    "\n",
    "### - Without `reset_index()`\n",
    "\n",
    "```python\n",
    "car_df_agg = car_df.groupby(\"sex\")[\"ageOFocc\"].mean()\n",
    "print(car_df_agg)\n",
    "```\n",
    "\n",
    "**Output** (Pandas **Series** with index = `sex`):\n",
    "\n",
    "```yaml\n",
    "sex\n",
    "F    33.0\n",
    "M    42.0\n",
    "Name: ageOFocc, dtype: float64\n",
    "```\n",
    "\n",
    "- The result is a **Series**\n",
    "- `sex` becomes the **index**\n",
    "- `ageOFocc` is the aggregated value\n",
    "\n",
    "---\n",
    "\n",
    "### - With `reset_index()`\n",
    "\n",
    "```python\n",
    "car_df_agg = car_df.groupby(\"sex\")[\"ageOFocc\"].mean().reset_index()\n",
    "print(car_df_agg)\n",
    "```\n",
    "\n",
    "**Output** (Pandas **DataFrame** with default integer index):\n",
    "\n",
    "```r\n",
    "  sex  ageOFocc\n",
    "0   F      33.0\n",
    "1   M      42.0\n",
    "```\n",
    "\n",
    "- The result is a **DataFrame**\n",
    "- `sex` is a **regular column**\n",
    "- Default row indices `0, 1, ...` are used\n",
    "\n",
    "---\n",
    "\n",
    "### When to use `reset_index()`?\n",
    "\n",
    "Use `.reset_index()` when:\n",
    "- You want a **clean DataFrame** (e.g., for plotting, exporting, or merging).\n",
    "- You don’t want `sex` to act as the index.\n",
    "\n",
    "Without it:\n",
    "- The result is fine for **quick checks or printing**, but can be **less flexible** for downstream operations.\n"
   ]
  },
  {
   "cell_type": "markdown",
   "id": "252a8de7",
   "metadata": {},
   "source": [
    "### RealTime UseCase 13 : Date Conversions"
   ]
  },
  {
   "cell_type": "code",
   "execution_count": null,
   "id": "dcc9fc37",
   "metadata": {},
   "outputs": [],
   "source": []
  },
  {
   "cell_type": "code",
   "execution_count": null,
   "id": "351efbdb",
   "metadata": {},
   "outputs": [],
   "source": []
  },
  {
   "cell_type": "code",
   "execution_count": null,
   "id": "a0b20df7",
   "metadata": {},
   "outputs": [],
   "source": []
  },
  {
   "cell_type": "code",
   "execution_count": null,
   "id": "db907809",
   "metadata": {},
   "outputs": [],
   "source": []
  },
  {
   "cell_type": "code",
   "execution_count": null,
   "id": "10e78e70",
   "metadata": {},
   "outputs": [],
   "source": []
  },
  {
   "cell_type": "code",
   "execution_count": null,
   "id": "ccfe1d84",
   "metadata": {},
   "outputs": [],
   "source": []
  },
  {
   "cell_type": "code",
   "execution_count": null,
   "id": "b0543fe2",
   "metadata": {},
   "outputs": [],
   "source": []
  },
  {
   "cell_type": "code",
   "execution_count": null,
   "id": "16df856c",
   "metadata": {},
   "outputs": [],
   "source": []
  }
 ],
 "metadata": {
  "kernelspec": {
   "display_name": "Python 3 (ipykernel)",
   "language": "python",
   "name": "python3"
  },
  "language_info": {
   "codemirror_mode": {
    "name": "ipython",
    "version": 3
   },
   "file_extension": ".py",
   "mimetype": "text/x-python",
   "name": "python",
   "nbconvert_exporter": "python",
   "pygments_lexer": "ipython3",
   "version": "3.9.13"
  }
 },
 "nbformat": 4,
 "nbformat_minor": 5
}
